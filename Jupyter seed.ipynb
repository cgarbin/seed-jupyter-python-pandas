{
 "cells": [
  {
   "cell_type": "markdown",
   "metadata": {},
   "source": [
    "# Seed notebook to read and manipulate data with pandas and numpy"
   ]
  },
  {
   "cell_type": "markdown",
   "metadata": {},
   "source": [
    "A seed Jupyter Python notebook to read, manipulate and visualize data. This notebooks is a skeleton for those steps, with simple sample code that can be expanded later.\n",
    "\n",
    "It covers:\n",
    "\n",
    "* Read data from an external file\n",
    "* Ma"
   ]
  },
  {
   "cell_type": "markdown",
   "metadata": {},
   "source": [
    "## Read \n",
    "\n",
    "Read from a .csv file, parsing dates"
   ]
  },
  {
   "cell_type": "code",
   "execution_count": null,
   "metadata": {
    "scrolled": true
   },
   "outputs": [],
   "source": [
    "import pandas as pd\n",
    "df = pd.read_csv(\"employees.csv\", parse_dates=[\"hire date\"])\n",
    "df"
   ]
  },
  {
   "cell_type": "markdown",
   "metadata": {},
   "source": [
    "## Add columns\n",
    "\n",
    "Add a new column, based on values of another column"
   ]
  },
  {
   "cell_type": "code",
   "execution_count": null,
   "metadata": {},
   "outputs": [],
   "source": [
    "import numpy as np\n",
    "df[\"high salary\"] = np.where(df[\"salary\"] >= 7000, \"yes\", \"no\")\n",
    "df"
   ]
  },
  {
   "cell_type": "markdown",
   "metadata": {},
   "source": [
    "Add the column again, this time using list comprehension"
   ]
  },
  {
   "cell_type": "code",
   "execution_count": null,
   "metadata": {},
   "outputs": [],
   "source": [
    "# First drop the column we just added (test first, in case this cell\n",
    "# is executed more than once)\n",
    "if \"high salary\" in df.columns:\n",
    "    df.drop(\"high salary\", axis=1, inplace=True)\n",
    "\n",
    "# Add it again using list comprehension\n",
    "df[\"high salary\"] = [\"yes\" if x >= 7000 else \"no\" for x in df[\"salary\"]]\n",
    "df"
   ]
  },
  {
   "cell_type": "markdown",
   "metadata": {},
   "source": [
    "Which method to use: [this StackOverflow question](https://stackoverflow.com/q/50375985/336802) says that the `numpy` method is faster for large dataset."
   ]
  },
  {
   "cell_type": "markdown",
   "metadata": {},
   "source": [
    "Use a function to add a new column with a calculated value. A function is useful when the calculation is complex, not suitable for list comprehension or lambda expressions."
   ]
  },
  {
   "cell_type": "code",
   "execution_count": null,
   "metadata": {},
   "outputs": [],
   "source": [
    "import datetime\n",
    "\n",
    "def vacation_days(hire_date):\n",
    "    today = pd.to_datetime(\"today\")\n",
    "    service_years = (today - hire_date)/ np.timedelta64(1, \"Y\")\n",
    "    if service_years >= 20:\n",
    "        return 25\n",
    "    if service_years >= 15:\n",
    "        return 20\n",
    "    return 10\n",
    "\n",
    "df[\"vacation days\"] = df[\"hire date\"].apply(vacation_days)\n",
    "df"
   ]
  },
  {
   "cell_type": "markdown",
   "metadata": {},
   "source": [
    "## Filter\n",
    "\n",
    "Filter data based on column value"
   ]
  },
  {
   "cell_type": "code",
   "execution_count": null,
   "metadata": {
    "scrolled": true
   },
   "outputs": [],
   "source": [
    "df_high = df.loc[df[\"high salary\"] == \"yes\"]\n",
    "df_high"
   ]
  },
  {
   "cell_type": "markdown",
   "metadata": {},
   "source": [
    "## Graphs"
   ]
  },
  {
   "cell_type": "markdown",
   "metadata": {},
   "source": [
    "**NOTE**: pandas uses [matlibplot](https://matplotlib.org/) under the hood for graphs. Pandas' `plot` is a wrapper for the matlibplot APIs, simplifying its usage. You can also invoke the matlibpot APIs directly for more advanced graphing creation and customization. See details in [this pandas document](http://pandas.pydata.org/pandas-docs/version/0.13/visualization.html). \n",
    "\n",
    "Simple graphs, choosing specific columns columns for each axis."
   ]
  },
  {
   "cell_type": "code",
   "execution_count": null,
   "metadata": {},
   "outputs": [],
   "source": [
    "df.plot(x=\"first name\", y=\"salary\", kind=\"barh\", legend=False)"
   ]
  },
  {
   "cell_type": "markdown",
   "metadata": {},
   "source": [
    "Choosing colors for the bars, based on the value of another column."
   ]
  },
  {
   "cell_type": "code",
   "execution_count": null,
   "metadata": {},
   "outputs": [],
   "source": [
    "df.plot(x=\"first name\", y=\"salary\", kind=\"barh\", legend=False, \n",
    "        color=np.where(df[\"high salary\"] == \"yes\", \"r\", \"b\"))\n"
   ]
  },
  {
   "cell_type": "markdown",
   "metadata": {},
   "source": [
    "Same as the above, using list comprehension for the colors."
   ]
  },
  {
   "cell_type": "code",
   "execution_count": null,
   "metadata": {},
   "outputs": [],
   "source": [
    "df.plot(x=\"first name\", y=\"salary\", kind=\"barh\", legend=False, \n",
    "        color=[\"r\" if x == \"yes\" else \"b\" for x in df[\"high salary\"]])\n"
   ]
  },
  {
   "cell_type": "markdown",
   "metadata": {},
   "source": [
    "There are other data visualizaton libraries for Python. See [this article](https://blog.modeanalytics.com/python-data-visualization-libraries/), [this other article](http://pbpython.com/visualization-tools-1.html) and [this one](https://dsaber.com/2016/10/02/a-dramatic-tour-through-pythons-data-visualization-landscape-including-ggplot-and-altair/) that includes code in the comparison. But note that libraries move fast, especially the new ones. Always check for changes with a generic google \"python data visualization\".\n",
    "\n",
    "If you are also working with R: `ggplot2` is available in Python (where it's called `ggplot` - see [here](http://ggplot.yhathq.com/)).\n"
   ]
  }
 ],
 "metadata": {
  "kernelspec": {
   "display_name": "Python 3",
   "language": "python",
   "name": "python3"
  },
  "language_info": {
   "codemirror_mode": {
    "name": "ipython",
    "version": 3
   },
   "file_extension": ".py",
   "mimetype": "text/x-python",
   "name": "python",
   "nbconvert_exporter": "python",
   "pygments_lexer": "ipython3",
   "version": "3.6.4"
  }
 },
 "nbformat": 4,
 "nbformat_minor": 2
}
