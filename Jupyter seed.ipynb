{
 "cells": [
  {
   "cell_type": "markdown",
   "metadata": {},
   "source": [
    "# Seed notebook to read and manipulate data with pandas and numpy"
   ]
  },
  {
   "cell_type": "markdown",
   "metadata": {},
   "source": [
    "Read from a .csv file, parsing dates"
   ]
  },
  {
   "cell_type": "code",
   "execution_count": null,
   "metadata": {
    "scrolled": true
   },
   "outputs": [],
   "source": [
    "import pandas as pd\n",
    "df = pd.read_csv(\"employees.csv\", parse_dates=[\"hire date\"])\n",
    "dfgit "
   ]
  },
  {
   "cell_type": "markdown",
   "metadata": {},
   "source": [
    "Create a new column, based on values of another column"
   ]
  },
  {
   "cell_type": "code",
   "execution_count": null,
   "metadata": {},
   "outputs": [],
   "source": [
    "import numpy as np\n",
    "df['high salary'] = np.where(df['salary'] >= 7000,'yes','no')\n",
    "df"
   ]
  },
  {
   "cell_type": "markdown",
   "metadata": {},
   "source": [
    "Add the column again, this time using list comprehension"
   ]
  },
  {
   "cell_type": "code",
   "execution_count": null,
   "metadata": {},
   "outputs": [],
   "source": [
    "# First drop the column we just added (test first, in case this cell\n",
    "# is executed more than once)\n",
    "if 'high salary' in df.columns:\n",
    "    df.drop('high salary', axis=1, inplace=True)\n",
    "\n",
    "# Add it again using list comprehension\n",
    "df['high salary'] = ['yes' if x >= 7000 else 'no' for x in df['salary']]\n",
    "df"
   ]
  },
  {
   "cell_type": "markdown",
   "metadata": {},
   "source": [
    "Which method to use: [this StackOverflow question](https://stackoverflow.com/q/50375985/336802) says that the `numpy` method is faster for large dataset."
   ]
  },
  {
   "cell_type": "markdown",
   "metadata": {},
   "source": [
    "Use a function to add a new column with a calculated value. A function is useful when the calculation is complex, not suitable for list comprehension or lambda expressions."
   ]
  },
  {
   "cell_type": "code",
   "execution_count": null,
   "metadata": {},
   "outputs": [],
   "source": [
    "import datetime\n",
    "\n",
    "def vacation_days(hire_date):\n",
    "    today = pd.to_datetime('today')\n",
    "    service_years = (today - hire_date)/ np.timedelta64(1, 'Y')\n",
    "    if service_years >= 20:\n",
    "        return 25\n",
    "    if service_years >= 15:\n",
    "        return 20\n",
    "    return 10\n",
    "\n",
    "df[\"vacation days\"] = df[\"hire date\"].apply(vacation_days)\n",
    "df"
   ]
  },
  {
   "cell_type": "markdown",
   "metadata": {},
   "source": [
    "Filter data based on column value"
   ]
  },
  {
   "cell_type": "code",
   "execution_count": null,
   "metadata": {
    "scrolled": true
   },
   "outputs": [],
   "source": [
    "df_high = df.loc[df[\"high salary\"] == \"yes\"]\n",
    "df_high"
   ]
  },
  {
   "cell_type": "code",
   "execution_count": null,
   "metadata": {},
   "outputs": [],
   "source": []
  },
  {
   "cell_type": "code",
   "execution_count": null,
   "metadata": {},
   "outputs": [],
   "source": []
  }
 ],
 "metadata": {
  "kernelspec": {
   "display_name": "Python 3",
   "language": "python",
   "name": "python3"
  },
  "language_info": {
   "codemirror_mode": {
    "name": "ipython",
    "version": 3
   },
   "file_extension": ".py",
   "mimetype": "text/x-python",
   "name": "python",
   "nbconvert_exporter": "python",
   "pygments_lexer": "ipython3",
   "version": "3.6.4"
  }
 },
 "nbformat": 4,
 "nbformat_minor": 2
}
